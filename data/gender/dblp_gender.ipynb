{
 "cells": [
  {
   "cell_type": "code",
   "execution_count": 38,
   "metadata": {
    "collapsed": true,
    "pycharm": {
     "is_executing": false
    }
   },
   "outputs": [],
   "source": [
    "import time\n",
    "\n",
    "import numpy as np\n",
    "import pandas as pd\n",
    "\n",
    "from nameparser import HumanName\n",
    "from genderize import Genderize\n",
    "\n",
    "from data.namsor_api import NamSorApi"
   ]
  },
  {
   "cell_type": "code",
   "execution_count": 6,
   "outputs": [
    {
     "data": {
      "text/plain": "                       author  number_publication  year\n0             H. Vincent Poor                1771  1978\n1        Mohamed-Slim Alouini                1407  1997\n2                Philip S. Yu                1284  1981\n3                    Wei Wang                1284  1987\n4                   Wei Zhang                1283  1990\n...                       ...                 ...   ...\n2308638       Ünsal Özkuvanci                   1  2012\n2308639  Üyesi Mesut Atasever                   1  2019\n2308640     Þröstur Pétursson                   1  2015\n2308641       Þórir Harðarson                   1  2008\n2308642  þorgerður Pálsdóttir                   1  2017\n\n[2308643 rows x 3 columns]",
      "text/html": "<div>\n<style scoped>\n    .dataframe tbody tr th:only-of-type {\n        vertical-align: middle;\n    }\n\n    .dataframe tbody tr th {\n        vertical-align: top;\n    }\n\n    .dataframe thead th {\n        text-align: right;\n    }\n</style>\n<table border=\"1\" class=\"dataframe\">\n  <thead>\n    <tr style=\"text-align: right;\">\n      <th></th>\n      <th>author</th>\n      <th>number_publication</th>\n      <th>year</th>\n    </tr>\n  </thead>\n  <tbody>\n    <tr>\n      <th>0</th>\n      <td>H. Vincent Poor</td>\n      <td>1771</td>\n      <td>1978</td>\n    </tr>\n    <tr>\n      <th>1</th>\n      <td>Mohamed-Slim Alouini</td>\n      <td>1407</td>\n      <td>1997</td>\n    </tr>\n    <tr>\n      <th>2</th>\n      <td>Philip S. Yu</td>\n      <td>1284</td>\n      <td>1981</td>\n    </tr>\n    <tr>\n      <th>3</th>\n      <td>Wei Wang</td>\n      <td>1284</td>\n      <td>1987</td>\n    </tr>\n    <tr>\n      <th>4</th>\n      <td>Wei Zhang</td>\n      <td>1283</td>\n      <td>1990</td>\n    </tr>\n    <tr>\n      <th>...</th>\n      <td>...</td>\n      <td>...</td>\n      <td>...</td>\n    </tr>\n    <tr>\n      <th>2308638</th>\n      <td>Ünsal Özkuvanci</td>\n      <td>1</td>\n      <td>2012</td>\n    </tr>\n    <tr>\n      <th>2308639</th>\n      <td>Üyesi Mesut Atasever</td>\n      <td>1</td>\n      <td>2019</td>\n    </tr>\n    <tr>\n      <th>2308640</th>\n      <td>Þröstur Pétursson</td>\n      <td>1</td>\n      <td>2015</td>\n    </tr>\n    <tr>\n      <th>2308641</th>\n      <td>Þórir Harðarson</td>\n      <td>1</td>\n      <td>2008</td>\n    </tr>\n    <tr>\n      <th>2308642</th>\n      <td>þorgerður Pálsdóttir</td>\n      <td>1</td>\n      <td>2017</td>\n    </tr>\n  </tbody>\n</table>\n<p>2308643 rows × 3 columns</p>\n</div>"
     },
     "metadata": {},
     "output_type": "execute_result",
     "execution_count": 6
    }
   ],
   "source": [
    "df_author = pd.read_csv('../processed/author.csv')\n",
    "df_author"
   ],
   "metadata": {
    "collapsed": false,
    "pycharm": {
     "name": "#%%\n",
     "is_executing": false
    }
   }
  },
  {
   "cell_type": "code",
   "execution_count": 2,
   "outputs": [
    {
     "data": {
      "text/plain": "             name gender  probability  count\n0             NaN    NaN         0.00      0\n1                    NaN         0.00      0\n2         'Maseka    NaN         0.00      0\n3               A   male         0.68  19908\n4        A'aeshah    NaN         0.00      0\n...           ...    ...          ...    ...\n161709     Ünzüle    NaN         0.00      0\n161710       Ürün    NaN         0.00      0\n161711      Üyesi    NaN         0.00      0\n161712  Þórhildur    NaN         0.00      0\n161713  þorgerður    NaN         0.00      0\n\n[161714 rows x 4 columns]",
      "text/html": "<div>\n<style scoped>\n    .dataframe tbody tr th:only-of-type {\n        vertical-align: middle;\n    }\n\n    .dataframe tbody tr th {\n        vertical-align: top;\n    }\n\n    .dataframe thead th {\n        text-align: right;\n    }\n</style>\n<table border=\"1\" class=\"dataframe\">\n  <thead>\n    <tr style=\"text-align: right;\">\n      <th></th>\n      <th>name</th>\n      <th>gender</th>\n      <th>probability</th>\n      <th>count</th>\n    </tr>\n  </thead>\n  <tbody>\n    <tr>\n      <th>0</th>\n      <td>NaN</td>\n      <td>NaN</td>\n      <td>0.00</td>\n      <td>0</td>\n    </tr>\n    <tr>\n      <th>1</th>\n      <td></td>\n      <td>NaN</td>\n      <td>0.00</td>\n      <td>0</td>\n    </tr>\n    <tr>\n      <th>2</th>\n      <td>'Maseka</td>\n      <td>NaN</td>\n      <td>0.00</td>\n      <td>0</td>\n    </tr>\n    <tr>\n      <th>3</th>\n      <td>A</td>\n      <td>male</td>\n      <td>0.68</td>\n      <td>19908</td>\n    </tr>\n    <tr>\n      <th>4</th>\n      <td>A'aeshah</td>\n      <td>NaN</td>\n      <td>0.00</td>\n      <td>0</td>\n    </tr>\n    <tr>\n      <th>...</th>\n      <td>...</td>\n      <td>...</td>\n      <td>...</td>\n      <td>...</td>\n    </tr>\n    <tr>\n      <th>161709</th>\n      <td>Ünzüle</td>\n      <td>NaN</td>\n      <td>0.00</td>\n      <td>0</td>\n    </tr>\n    <tr>\n      <th>161710</th>\n      <td>Ürün</td>\n      <td>NaN</td>\n      <td>0.00</td>\n      <td>0</td>\n    </tr>\n    <tr>\n      <th>161711</th>\n      <td>Üyesi</td>\n      <td>NaN</td>\n      <td>0.00</td>\n      <td>0</td>\n    </tr>\n    <tr>\n      <th>161712</th>\n      <td>Þórhildur</td>\n      <td>NaN</td>\n      <td>0.00</td>\n      <td>0</td>\n    </tr>\n    <tr>\n      <th>161713</th>\n      <td>þorgerður</td>\n      <td>NaN</td>\n      <td>0.00</td>\n      <td>0</td>\n    </tr>\n  </tbody>\n</table>\n<p>161714 rows × 4 columns</p>\n</div>"
     },
     "metadata": {},
     "output_type": "execute_result",
     "execution_count": 2
    }
   ],
   "source": [
    "gender_list = pd.read_csv('gender_list.csv')\n",
    "gender_list"
   ],
   "metadata": {
    "collapsed": false,
    "pycharm": {
     "name": "#%%\n",
     "is_executing": false
    }
   }
  },
  {
   "cell_type": "code",
   "execution_count": 3,
   "outputs": [
    {
     "data": {
      "text/plain": "          name  gender  probability  count\n5        A'ang    male         1.00      3\n8         A'na  female         1.00      2\n9         A-Li    male         0.88      8\n11       A-Man    male         0.93     15\n14        A-Ra  female         0.96     26\n...        ...     ...          ...    ...\n161694  Øyvind    male         1.00    192\n161698   Ülari    male         1.00      2\n161702     Ülo    male         1.00      2\n161703    Ümit    male         1.00     29\n161708   Ünver    male         1.00     20\n\n[66934 rows x 4 columns]",
      "text/html": "<div>\n<style scoped>\n    .dataframe tbody tr th:only-of-type {\n        vertical-align: middle;\n    }\n\n    .dataframe tbody tr th {\n        vertical-align: top;\n    }\n\n    .dataframe thead th {\n        text-align: right;\n    }\n</style>\n<table border=\"1\" class=\"dataframe\">\n  <thead>\n    <tr style=\"text-align: right;\">\n      <th></th>\n      <th>name</th>\n      <th>gender</th>\n      <th>probability</th>\n      <th>count</th>\n    </tr>\n  </thead>\n  <tbody>\n    <tr>\n      <th>5</th>\n      <td>A'ang</td>\n      <td>male</td>\n      <td>1.00</td>\n      <td>3</td>\n    </tr>\n    <tr>\n      <th>8</th>\n      <td>A'na</td>\n      <td>female</td>\n      <td>1.00</td>\n      <td>2</td>\n    </tr>\n    <tr>\n      <th>9</th>\n      <td>A-Li</td>\n      <td>male</td>\n      <td>0.88</td>\n      <td>8</td>\n    </tr>\n    <tr>\n      <th>11</th>\n      <td>A-Man</td>\n      <td>male</td>\n      <td>0.93</td>\n      <td>15</td>\n    </tr>\n    <tr>\n      <th>14</th>\n      <td>A-Ra</td>\n      <td>female</td>\n      <td>0.96</td>\n      <td>26</td>\n    </tr>\n    <tr>\n      <th>...</th>\n      <td>...</td>\n      <td>...</td>\n      <td>...</td>\n      <td>...</td>\n    </tr>\n    <tr>\n      <th>161694</th>\n      <td>Øyvind</td>\n      <td>male</td>\n      <td>1.00</td>\n      <td>192</td>\n    </tr>\n    <tr>\n      <th>161698</th>\n      <td>Ülari</td>\n      <td>male</td>\n      <td>1.00</td>\n      <td>2</td>\n    </tr>\n    <tr>\n      <th>161702</th>\n      <td>Ülo</td>\n      <td>male</td>\n      <td>1.00</td>\n      <td>2</td>\n    </tr>\n    <tr>\n      <th>161703</th>\n      <td>Ümit</td>\n      <td>male</td>\n      <td>1.00</td>\n      <td>29</td>\n    </tr>\n    <tr>\n      <th>161708</th>\n      <td>Ünver</td>\n      <td>male</td>\n      <td>1.00</td>\n      <td>20</td>\n    </tr>\n  </tbody>\n</table>\n<p>66934 rows × 4 columns</p>\n</div>"
     },
     "metadata": {},
     "output_type": "execute_result",
     "execution_count": 3
    }
   ],
   "source": [
    "gender_list_filtered = gender_list[(gender_list['probability'] > 0.8) & (gender_list['count'] > 1)]\n",
    "gender_list_filtered"
   ],
   "metadata": {
    "collapsed": false,
    "pycharm": {
     "name": "#%%\n",
     "is_executing": false
    }
   }
  },
  {
   "cell_type": "code",
   "execution_count": 4,
   "outputs": [
    {
     "data": {
      "text/plain": "                       author  number_publication  year               mentor\n0             H. Vincent Poor                1771  1978       John B. Thomas\n1        Mohamed-Slim Alouini                1407  1997      Marvin K. Simon\n2                    Wei Wang                1284  1987  Thomas C. Henderson\n3                 Lajos Hanzo                1236  1993       Raymond Steele\n4                Wen Gao 0001                1190  1995         Jiarong Hong\n...                       ...                 ...   ...                  ...\n1236795           Ümit Özlale                   1  2018         Gonca Gürsun\n1236796         Ünsal Akaslan                   1  2016  Selami Serhatlioglu\n1236797       Ünsal Özkuvanci                   1  2012           Sadik Kara\n1236798  Üyesi Mesut Atasever                   1  2019     Witold Chmielarz\n1236799  þorgerður Pálsdóttir                   1  2017     Andreas Karlsson\n\n[1236800 rows x 4 columns]",
      "text/html": "<div>\n<style scoped>\n    .dataframe tbody tr th:only-of-type {\n        vertical-align: middle;\n    }\n\n    .dataframe tbody tr th {\n        vertical-align: top;\n    }\n\n    .dataframe thead th {\n        text-align: right;\n    }\n</style>\n<table border=\"1\" class=\"dataframe\">\n  <thead>\n    <tr style=\"text-align: right;\">\n      <th></th>\n      <th>author</th>\n      <th>number_publication</th>\n      <th>year</th>\n      <th>mentor</th>\n    </tr>\n  </thead>\n  <tbody>\n    <tr>\n      <th>0</th>\n      <td>H. Vincent Poor</td>\n      <td>1771</td>\n      <td>1978</td>\n      <td>John B. Thomas</td>\n    </tr>\n    <tr>\n      <th>1</th>\n      <td>Mohamed-Slim Alouini</td>\n      <td>1407</td>\n      <td>1997</td>\n      <td>Marvin K. Simon</td>\n    </tr>\n    <tr>\n      <th>2</th>\n      <td>Wei Wang</td>\n      <td>1284</td>\n      <td>1987</td>\n      <td>Thomas C. Henderson</td>\n    </tr>\n    <tr>\n      <th>3</th>\n      <td>Lajos Hanzo</td>\n      <td>1236</td>\n      <td>1993</td>\n      <td>Raymond Steele</td>\n    </tr>\n    <tr>\n      <th>4</th>\n      <td>Wen Gao 0001</td>\n      <td>1190</td>\n      <td>1995</td>\n      <td>Jiarong Hong</td>\n    </tr>\n    <tr>\n      <th>...</th>\n      <td>...</td>\n      <td>...</td>\n      <td>...</td>\n      <td>...</td>\n    </tr>\n    <tr>\n      <th>1236795</th>\n      <td>Ümit Özlale</td>\n      <td>1</td>\n      <td>2018</td>\n      <td>Gonca Gürsun</td>\n    </tr>\n    <tr>\n      <th>1236796</th>\n      <td>Ünsal Akaslan</td>\n      <td>1</td>\n      <td>2016</td>\n      <td>Selami Serhatlioglu</td>\n    </tr>\n    <tr>\n      <th>1236797</th>\n      <td>Ünsal Özkuvanci</td>\n      <td>1</td>\n      <td>2012</td>\n      <td>Sadik Kara</td>\n    </tr>\n    <tr>\n      <th>1236798</th>\n      <td>Üyesi Mesut Atasever</td>\n      <td>1</td>\n      <td>2019</td>\n      <td>Witold Chmielarz</td>\n    </tr>\n    <tr>\n      <th>1236799</th>\n      <td>þorgerður Pálsdóttir</td>\n      <td>1</td>\n      <td>2017</td>\n      <td>Andreas Karlsson</td>\n    </tr>\n  </tbody>\n</table>\n<p>1236800 rows × 4 columns</p>\n</div>"
     },
     "metadata": {},
     "output_type": "execute_result",
     "execution_count": 4
    }
   ],
   "source": [
    "student_mentor = pd.read_csv('../processed/author_mentor.csv')\n",
    "student_mentor"
   ],
   "metadata": {
    "collapsed": false,
    "pycharm": {
     "name": "#%%\n",
     "is_executing": false
    }
   }
  },
  {
   "cell_type": "code",
   "execution_count": 8,
   "outputs": [
    {
     "data": {
      "text/plain": "161714"
     },
     "metadata": {},
     "output_type": "execute_result",
     "execution_count": 8
    }
   ],
   "source": [
    "unique_student_first_name = student_mentor['author'].map(lambda x: HumanName(x).first).unique()\n",
    "\n",
    "unique_mentor_first_name = student_mentor['mentor'].map(lambda x: HumanName(x).first).unique()\n",
    "\n",
    "unique_first_name = np.unique(np.concatenate((unique_student_first_name, unique_mentor_first_name), axis=None))\n",
    "len(unique_first_name)"
   ],
   "metadata": {
    "collapsed": false,
    "pycharm": {
     "name": "#%%\n",
     "is_executing": false
    }
   }
  },
  {
   "cell_type": "code",
   "execution_count": 9,
   "outputs": [],
   "source": [
    "# init a Genderize instance, get the list of genders\n",
    "gender = Genderize(api_key='8398523e8bc59e36035174fd47c877a9')\n",
    "gender_list = gender.get(unique_first_name)\n",
    "df_gender = pd.DataFrame(gender_list)\n",
    "df_gender.to_csv('gender_list.csv', index=None)"
   ],
   "metadata": {
    "collapsed": false,
    "pycharm": {
     "name": "#%%\n",
     "is_executing": false
    }
   }
  },
  {
   "cell_type": "code",
   "execution_count": 17,
   "outputs": [
    {
     "data": {
      "text/plain": "                             0             1\n0              H. Vincent Poor            H.\n1         Mohamed-Slim Alouini  Mohamed-Slim\n2                     Wei Wang           Wei\n3                  Lajos Hanzo         Lajos\n4                 Wen Gao 0001           Wen\n...                        ...           ...\n1348411   Mehmet Ilker Berkman        Mehmet\n1348412    Takashi Kamihigashi       Takashi\n1348413  Fernando Manuel Ramos      Fernando\n1348414           Borut Gersak         Borut\n1348415       Witold Chmielarz        Witold\n\n[1348416 rows x 2 columns]",
      "text/html": "<div>\n<style scoped>\n    .dataframe tbody tr th:only-of-type {\n        vertical-align: middle;\n    }\n\n    .dataframe tbody tr th {\n        vertical-align: top;\n    }\n\n    .dataframe thead th {\n        text-align: right;\n    }\n</style>\n<table border=\"1\" class=\"dataframe\">\n  <thead>\n    <tr style=\"text-align: right;\">\n      <th></th>\n      <th>0</th>\n      <th>1</th>\n    </tr>\n  </thead>\n  <tbody>\n    <tr>\n      <th>0</th>\n      <td>H. Vincent Poor</td>\n      <td>H.</td>\n    </tr>\n    <tr>\n      <th>1</th>\n      <td>Mohamed-Slim Alouini</td>\n      <td>Mohamed-Slim</td>\n    </tr>\n    <tr>\n      <th>2</th>\n      <td>Wei Wang</td>\n      <td>Wei</td>\n    </tr>\n    <tr>\n      <th>3</th>\n      <td>Lajos Hanzo</td>\n      <td>Lajos</td>\n    </tr>\n    <tr>\n      <th>4</th>\n      <td>Wen Gao 0001</td>\n      <td>Wen</td>\n    </tr>\n    <tr>\n      <th>...</th>\n      <td>...</td>\n      <td>...</td>\n    </tr>\n    <tr>\n      <th>1348411</th>\n      <td>Mehmet Ilker Berkman</td>\n      <td>Mehmet</td>\n    </tr>\n    <tr>\n      <th>1348412</th>\n      <td>Takashi Kamihigashi</td>\n      <td>Takashi</td>\n    </tr>\n    <tr>\n      <th>1348413</th>\n      <td>Fernando Manuel Ramos</td>\n      <td>Fernando</td>\n    </tr>\n    <tr>\n      <th>1348414</th>\n      <td>Borut Gersak</td>\n      <td>Borut</td>\n    </tr>\n    <tr>\n      <th>1348415</th>\n      <td>Witold Chmielarz</td>\n      <td>Witold</td>\n    </tr>\n  </tbody>\n</table>\n<p>1348416 rows × 2 columns</p>\n</div>"
     },
     "metadata": {},
     "output_type": "execute_result",
     "execution_count": 17
    }
   ],
   "source": [
    "author_reduced = pd.concat([student_mentor['author'], student_mentor['mentor']], axis=0)\n",
    "author_reduced = author_reduced.unique()\n",
    "author_reduced = pd.Series(author_reduced)\n",
    "first_name = author_reduced.map(lambda x: HumanName(x).first)"
   ],
   "metadata": {
    "collapsed": false,
    "pycharm": {
     "name": "#%%\n",
     "is_executing": false
    }
   }
  },
  {
   "cell_type": "code",
   "execution_count": 18,
   "outputs": [
    {
     "data": {
      "text/plain": "                        author          name\n0              H. Vincent Poor            H.\n1         Mohamed-Slim Alouini  Mohamed-Slim\n2                     Wei Wang           Wei\n3                  Lajos Hanzo         Lajos\n4                 Wen Gao 0001           Wen\n...                        ...           ...\n1348411   Mehmet Ilker Berkman        Mehmet\n1348412    Takashi Kamihigashi       Takashi\n1348413  Fernando Manuel Ramos      Fernando\n1348414           Borut Gersak         Borut\n1348415       Witold Chmielarz        Witold\n\n[1348416 rows x 2 columns]",
      "text/html": "<div>\n<style scoped>\n    .dataframe tbody tr th:only-of-type {\n        vertical-align: middle;\n    }\n\n    .dataframe tbody tr th {\n        vertical-align: top;\n    }\n\n    .dataframe thead th {\n        text-align: right;\n    }\n</style>\n<table border=\"1\" class=\"dataframe\">\n  <thead>\n    <tr style=\"text-align: right;\">\n      <th></th>\n      <th>author</th>\n      <th>name</th>\n    </tr>\n  </thead>\n  <tbody>\n    <tr>\n      <th>0</th>\n      <td>H. Vincent Poor</td>\n      <td>H.</td>\n    </tr>\n    <tr>\n      <th>1</th>\n      <td>Mohamed-Slim Alouini</td>\n      <td>Mohamed-Slim</td>\n    </tr>\n    <tr>\n      <th>2</th>\n      <td>Wei Wang</td>\n      <td>Wei</td>\n    </tr>\n    <tr>\n      <th>3</th>\n      <td>Lajos Hanzo</td>\n      <td>Lajos</td>\n    </tr>\n    <tr>\n      <th>4</th>\n      <td>Wen Gao 0001</td>\n      <td>Wen</td>\n    </tr>\n    <tr>\n      <th>...</th>\n      <td>...</td>\n      <td>...</td>\n    </tr>\n    <tr>\n      <th>1348411</th>\n      <td>Mehmet Ilker Berkman</td>\n      <td>Mehmet</td>\n    </tr>\n    <tr>\n      <th>1348412</th>\n      <td>Takashi Kamihigashi</td>\n      <td>Takashi</td>\n    </tr>\n    <tr>\n      <th>1348413</th>\n      <td>Fernando Manuel Ramos</td>\n      <td>Fernando</td>\n    </tr>\n    <tr>\n      <th>1348414</th>\n      <td>Borut Gersak</td>\n      <td>Borut</td>\n    </tr>\n    <tr>\n      <th>1348415</th>\n      <td>Witold Chmielarz</td>\n      <td>Witold</td>\n    </tr>\n  </tbody>\n</table>\n<p>1348416 rows × 2 columns</p>\n</div>"
     },
     "metadata": {},
     "output_type": "execute_result",
     "execution_count": 18
    }
   ],
   "source": [
    "name = pd.concat([author_reduced, first_name], axis=1)\n",
    "name.columns = ['author', 'name']\n",
    "name"
   ],
   "metadata": {
    "collapsed": false,
    "pycharm": {
     "name": "#%%\n",
     "is_executing": false
    }
   }
  },
  {
   "cell_type": "code",
   "execution_count": 20,
   "outputs": [
    {
     "data": {
      "text/plain": "                        author       name  gender  probability  count\n0              H. Vincent Poor         H.     NaN          0.0      0\n1               H. V. Jagadish         H.     NaN          0.0      0\n2        H. Jaap van den Herik         H.     NaN          0.0      0\n3             H. Jonathan Chao         H.     NaN          0.0      0\n4                   H. T. Kung         H.     NaN          0.0      0\n...                        ...        ...     ...          ...    ...\n1347730        Yuan-Bang Cheng  Yuan-Bang     NaN          0.0      0\n1347731          Hsiuying Wang   Hsiuying     NaN          0.0      0\n1347732           Gibong Jeong     Gibong    male          1.0      5\n1347733            Changri Luo    Changri    male          1.0     11\n1347734    Jamaiah Haji Yahaya    Jamaiah  female          1.0      1\n\n[1347735 rows x 5 columns]",
      "text/html": "<div>\n<style scoped>\n    .dataframe tbody tr th:only-of-type {\n        vertical-align: middle;\n    }\n\n    .dataframe tbody tr th {\n        vertical-align: top;\n    }\n\n    .dataframe thead th {\n        text-align: right;\n    }\n</style>\n<table border=\"1\" class=\"dataframe\">\n  <thead>\n    <tr style=\"text-align: right;\">\n      <th></th>\n      <th>author</th>\n      <th>name</th>\n      <th>gender</th>\n      <th>probability</th>\n      <th>count</th>\n    </tr>\n  </thead>\n  <tbody>\n    <tr>\n      <th>0</th>\n      <td>H. Vincent Poor</td>\n      <td>H.</td>\n      <td>NaN</td>\n      <td>0.0</td>\n      <td>0</td>\n    </tr>\n    <tr>\n      <th>1</th>\n      <td>H. V. Jagadish</td>\n      <td>H.</td>\n      <td>NaN</td>\n      <td>0.0</td>\n      <td>0</td>\n    </tr>\n    <tr>\n      <th>2</th>\n      <td>H. Jaap van den Herik</td>\n      <td>H.</td>\n      <td>NaN</td>\n      <td>0.0</td>\n      <td>0</td>\n    </tr>\n    <tr>\n      <th>3</th>\n      <td>H. Jonathan Chao</td>\n      <td>H.</td>\n      <td>NaN</td>\n      <td>0.0</td>\n      <td>0</td>\n    </tr>\n    <tr>\n      <th>4</th>\n      <td>H. T. Kung</td>\n      <td>H.</td>\n      <td>NaN</td>\n      <td>0.0</td>\n      <td>0</td>\n    </tr>\n    <tr>\n      <th>...</th>\n      <td>...</td>\n      <td>...</td>\n      <td>...</td>\n      <td>...</td>\n      <td>...</td>\n    </tr>\n    <tr>\n      <th>1347730</th>\n      <td>Yuan-Bang Cheng</td>\n      <td>Yuan-Bang</td>\n      <td>NaN</td>\n      <td>0.0</td>\n      <td>0</td>\n    </tr>\n    <tr>\n      <th>1347731</th>\n      <td>Hsiuying Wang</td>\n      <td>Hsiuying</td>\n      <td>NaN</td>\n      <td>0.0</td>\n      <td>0</td>\n    </tr>\n    <tr>\n      <th>1347732</th>\n      <td>Gibong Jeong</td>\n      <td>Gibong</td>\n      <td>male</td>\n      <td>1.0</td>\n      <td>5</td>\n    </tr>\n    <tr>\n      <th>1347733</th>\n      <td>Changri Luo</td>\n      <td>Changri</td>\n      <td>male</td>\n      <td>1.0</td>\n      <td>11</td>\n    </tr>\n    <tr>\n      <th>1347734</th>\n      <td>Jamaiah Haji Yahaya</td>\n      <td>Jamaiah</td>\n      <td>female</td>\n      <td>1.0</td>\n      <td>1</td>\n    </tr>\n  </tbody>\n</table>\n<p>1347735 rows × 5 columns</p>\n</div>"
     },
     "metadata": {},
     "output_type": "execute_result",
     "execution_count": 20
    }
   ],
   "source": [
    "join_name = name.merge(gender_list, on='name')\n",
    "join_name"
   ],
   "metadata": {
    "collapsed": false,
    "pycharm": {
     "name": "#%%\n",
     "is_executing": false
    }
   }
  },
  {
   "cell_type": "code",
   "execution_count": 48,
   "outputs": [
    {
     "data": {
      "text/plain": "                        author       name  gender  probability  count\n0              H. Vincent Poor         H.    male     0.972930      0\n1               H. V. Jagadish         H.    male     0.936064      0\n2        H. Jaap van den Herik         H.    male     0.504165      0\n3             H. Jonathan Chao         H.    male     0.976723      0\n4                   H. T. Kung         H.    male     0.946764      0\n...                        ...        ...     ...          ...    ...\n1347730        Yuan-Bang Cheng  Yuan-Bang     NaN     0.000000      0\n1347731          Hsiuying Wang   Hsiuying     NaN     0.000000      0\n1347732           Gibong Jeong     Gibong    male     1.000000      5\n1347733            Changri Luo    Changri    male     1.000000     11\n1347734    Jamaiah Haji Yahaya    Jamaiah  female     1.000000      1\n\n[1347735 rows x 5 columns]",
      "text/html": "<div>\n<style scoped>\n    .dataframe tbody tr th:only-of-type {\n        vertical-align: middle;\n    }\n\n    .dataframe tbody tr th {\n        vertical-align: top;\n    }\n\n    .dataframe thead th {\n        text-align: right;\n    }\n</style>\n<table border=\"1\" class=\"dataframe\">\n  <thead>\n    <tr style=\"text-align: right;\">\n      <th></th>\n      <th>author</th>\n      <th>name</th>\n      <th>gender</th>\n      <th>probability</th>\n      <th>count</th>\n    </tr>\n  </thead>\n  <tbody>\n    <tr>\n      <th>0</th>\n      <td>H. Vincent Poor</td>\n      <td>H.</td>\n      <td>male</td>\n      <td>0.972930</td>\n      <td>0</td>\n    </tr>\n    <tr>\n      <th>1</th>\n      <td>H. V. Jagadish</td>\n      <td>H.</td>\n      <td>male</td>\n      <td>0.936064</td>\n      <td>0</td>\n    </tr>\n    <tr>\n      <th>2</th>\n      <td>H. Jaap van den Herik</td>\n      <td>H.</td>\n      <td>male</td>\n      <td>0.504165</td>\n      <td>0</td>\n    </tr>\n    <tr>\n      <th>3</th>\n      <td>H. Jonathan Chao</td>\n      <td>H.</td>\n      <td>male</td>\n      <td>0.976723</td>\n      <td>0</td>\n    </tr>\n    <tr>\n      <th>4</th>\n      <td>H. T. Kung</td>\n      <td>H.</td>\n      <td>male</td>\n      <td>0.946764</td>\n      <td>0</td>\n    </tr>\n    <tr>\n      <th>...</th>\n      <td>...</td>\n      <td>...</td>\n      <td>...</td>\n      <td>...</td>\n      <td>...</td>\n    </tr>\n    <tr>\n      <th>1347730</th>\n      <td>Yuan-Bang Cheng</td>\n      <td>Yuan-Bang</td>\n      <td>NaN</td>\n      <td>0.000000</td>\n      <td>0</td>\n    </tr>\n    <tr>\n      <th>1347731</th>\n      <td>Hsiuying Wang</td>\n      <td>Hsiuying</td>\n      <td>NaN</td>\n      <td>0.000000</td>\n      <td>0</td>\n    </tr>\n    <tr>\n      <th>1347732</th>\n      <td>Gibong Jeong</td>\n      <td>Gibong</td>\n      <td>male</td>\n      <td>1.000000</td>\n      <td>5</td>\n    </tr>\n    <tr>\n      <th>1347733</th>\n      <td>Changri Luo</td>\n      <td>Changri</td>\n      <td>male</td>\n      <td>1.000000</td>\n      <td>11</td>\n    </tr>\n    <tr>\n      <th>1347734</th>\n      <td>Jamaiah Haji Yahaya</td>\n      <td>Jamaiah</td>\n      <td>female</td>\n      <td>1.000000</td>\n      <td>1</td>\n    </tr>\n  </tbody>\n</table>\n<p>1347735 rows × 5 columns</p>\n</div>"
     },
     "metadata": {},
     "output_type": "execute_result",
     "execution_count": 48
    }
   ],
   "source": [
    "c = 0\n",
    "namesor = NamSorApi()\n",
    "for index, row in join_name.iterrows():\n",
    "    if row['probability'] < 0.8 and index >= 550676:\n",
    "        try:\n",
    "            c += 1\n",
    "            if c == 3500:\n",
    "                break\n",
    "            gender = namesor.get_gender(row['author'])\n",
    "            join_name.loc[index, 'gender'] = gender['likelyGender']\n",
    "            join_name.loc[index, 'probability'] = gender['probabilityCalibrated']\n",
    "        except Exception:\n",
    "            print('boom')\n",
    "            time.sleep(5)\n",
    "join_name"
   ],
   "metadata": {
    "collapsed": false,
    "pycharm": {
     "name": "#%%\n",
     "is_executing": false
    }
   }
  },
  {
   "cell_type": "code",
   "execution_count": 50,
   "outputs": [],
   "source": [
    "join_name.to_csv('author_gender.csv')\n"
   ],
   "metadata": {
    "collapsed": false,
    "pycharm": {
     "name": "#%%\n",
     "is_executing": false
    }
   }
  },
  {
   "cell_type": "code",
   "execution_count": 52,
   "outputs": [
    {
     "data": {
      "text/plain": "                             author     name  gender  probability  count\n2             H. Jaap van den Herik       H.    male     0.504165      0\n11                    H. Vicky Zhao       H.    male     0.516929      0\n18       H. F. Machiel Van der Loos       H.    male     0.500001      0\n20               H. Hannah Inbarani       H.  female     0.566456      0\n36           H. M. N. Dilum Bandara       H.    male     0.500039      0\n...                             ...      ...     ...          ...    ...\n1346960            Starley B. Shade  Starley    male     0.570000      7\n1347185                  Maido Remm    Maido    male     0.560000     68\n1347482          Manicka Dhanasekar  Manicka    male     0.520000     23\n1347579                   Minge Xie    Minge    male     0.520000     21\n1347583               Gam D. Nguyen      Gam    male     0.570000    335\n\n[28677 rows x 5 columns]",
      "text/html": "<div>\n<style scoped>\n    .dataframe tbody tr th:only-of-type {\n        vertical-align: middle;\n    }\n\n    .dataframe tbody tr th {\n        vertical-align: top;\n    }\n\n    .dataframe thead th {\n        text-align: right;\n    }\n</style>\n<table border=\"1\" class=\"dataframe\">\n  <thead>\n    <tr style=\"text-align: right;\">\n      <th></th>\n      <th>author</th>\n      <th>name</th>\n      <th>gender</th>\n      <th>probability</th>\n      <th>count</th>\n    </tr>\n  </thead>\n  <tbody>\n    <tr>\n      <th>2</th>\n      <td>H. Jaap van den Herik</td>\n      <td>H.</td>\n      <td>male</td>\n      <td>0.504165</td>\n      <td>0</td>\n    </tr>\n    <tr>\n      <th>11</th>\n      <td>H. Vicky Zhao</td>\n      <td>H.</td>\n      <td>male</td>\n      <td>0.516929</td>\n      <td>0</td>\n    </tr>\n    <tr>\n      <th>18</th>\n      <td>H. F. Machiel Van der Loos</td>\n      <td>H.</td>\n      <td>male</td>\n      <td>0.500001</td>\n      <td>0</td>\n    </tr>\n    <tr>\n      <th>20</th>\n      <td>H. Hannah Inbarani</td>\n      <td>H.</td>\n      <td>female</td>\n      <td>0.566456</td>\n      <td>0</td>\n    </tr>\n    <tr>\n      <th>36</th>\n      <td>H. M. N. Dilum Bandara</td>\n      <td>H.</td>\n      <td>male</td>\n      <td>0.500039</td>\n      <td>0</td>\n    </tr>\n    <tr>\n      <th>...</th>\n      <td>...</td>\n      <td>...</td>\n      <td>...</td>\n      <td>...</td>\n      <td>...</td>\n    </tr>\n    <tr>\n      <th>1346960</th>\n      <td>Starley B. Shade</td>\n      <td>Starley</td>\n      <td>male</td>\n      <td>0.570000</td>\n      <td>7</td>\n    </tr>\n    <tr>\n      <th>1347185</th>\n      <td>Maido Remm</td>\n      <td>Maido</td>\n      <td>male</td>\n      <td>0.560000</td>\n      <td>68</td>\n    </tr>\n    <tr>\n      <th>1347482</th>\n      <td>Manicka Dhanasekar</td>\n      <td>Manicka</td>\n      <td>male</td>\n      <td>0.520000</td>\n      <td>23</td>\n    </tr>\n    <tr>\n      <th>1347579</th>\n      <td>Minge Xie</td>\n      <td>Minge</td>\n      <td>male</td>\n      <td>0.520000</td>\n      <td>21</td>\n    </tr>\n    <tr>\n      <th>1347583</th>\n      <td>Gam D. Nguyen</td>\n      <td>Gam</td>\n      <td>male</td>\n      <td>0.570000</td>\n      <td>335</td>\n    </tr>\n  </tbody>\n</table>\n<p>28677 rows × 5 columns</p>\n</div>"
     },
     "metadata": {},
     "output_type": "execute_result",
     "execution_count": 52
    }
   ],
   "source": [
    "temp = join_name[(join_name['probability'] < 0.6) & (join_name['probability'] > 0.5)]\n",
    "temp"
   ],
   "metadata": {
    "collapsed": false,
    "pycharm": {
     "name": "#%%\n",
     "is_executing": false
    }
   }
  },
  {
   "cell_type": "code",
   "execution_count": 54,
   "outputs": [
    {
     "data": {
      "text/plain": "                      author      name  gender  probability  count\n0            H. Vincent Poor        H.    male     0.972930      0\n1             H. V. Jagadish        H.    male     0.936064      0\n3           H. Jonathan Chao        H.    male     0.976723      0\n4                 H. T. Kung        H.    male     0.946764      0\n5                 H. Jin Kim        H.    male     0.946304      0\n...                      ...       ...     ...          ...    ...\n1347728            Liaoni Wu    Liaoni  female     1.000000      1\n1347729       Hsinying Liang  Hsinying  female     1.000000      2\n1347732         Gibong Jeong    Gibong    male     1.000000      5\n1347733          Changri Luo   Changri    male     1.000000     11\n1347734  Jamaiah Haji Yahaya   Jamaiah  female     1.000000      1\n\n[1125049 rows x 5 columns]",
      "text/html": "<div>\n<style scoped>\n    .dataframe tbody tr th:only-of-type {\n        vertical-align: middle;\n    }\n\n    .dataframe tbody tr th {\n        vertical-align: top;\n    }\n\n    .dataframe thead th {\n        text-align: right;\n    }\n</style>\n<table border=\"1\" class=\"dataframe\">\n  <thead>\n    <tr style=\"text-align: right;\">\n      <th></th>\n      <th>author</th>\n      <th>name</th>\n      <th>gender</th>\n      <th>probability</th>\n      <th>count</th>\n    </tr>\n  </thead>\n  <tbody>\n    <tr>\n      <th>0</th>\n      <td>H. Vincent Poor</td>\n      <td>H.</td>\n      <td>male</td>\n      <td>0.972930</td>\n      <td>0</td>\n    </tr>\n    <tr>\n      <th>1</th>\n      <td>H. V. Jagadish</td>\n      <td>H.</td>\n      <td>male</td>\n      <td>0.936064</td>\n      <td>0</td>\n    </tr>\n    <tr>\n      <th>3</th>\n      <td>H. Jonathan Chao</td>\n      <td>H.</td>\n      <td>male</td>\n      <td>0.976723</td>\n      <td>0</td>\n    </tr>\n    <tr>\n      <th>4</th>\n      <td>H. T. Kung</td>\n      <td>H.</td>\n      <td>male</td>\n      <td>0.946764</td>\n      <td>0</td>\n    </tr>\n    <tr>\n      <th>5</th>\n      <td>H. Jin Kim</td>\n      <td>H.</td>\n      <td>male</td>\n      <td>0.946304</td>\n      <td>0</td>\n    </tr>\n    <tr>\n      <th>...</th>\n      <td>...</td>\n      <td>...</td>\n      <td>...</td>\n      <td>...</td>\n      <td>...</td>\n    </tr>\n    <tr>\n      <th>1347728</th>\n      <td>Liaoni Wu</td>\n      <td>Liaoni</td>\n      <td>female</td>\n      <td>1.000000</td>\n      <td>1</td>\n    </tr>\n    <tr>\n      <th>1347729</th>\n      <td>Hsinying Liang</td>\n      <td>Hsinying</td>\n      <td>female</td>\n      <td>1.000000</td>\n      <td>2</td>\n    </tr>\n    <tr>\n      <th>1347732</th>\n      <td>Gibong Jeong</td>\n      <td>Gibong</td>\n      <td>male</td>\n      <td>1.000000</td>\n      <td>5</td>\n    </tr>\n    <tr>\n      <th>1347733</th>\n      <td>Changri Luo</td>\n      <td>Changri</td>\n      <td>male</td>\n      <td>1.000000</td>\n      <td>11</td>\n    </tr>\n    <tr>\n      <th>1347734</th>\n      <td>Jamaiah Haji Yahaya</td>\n      <td>Jamaiah</td>\n      <td>female</td>\n      <td>1.000000</td>\n      <td>1</td>\n    </tr>\n  </tbody>\n</table>\n<p>1125049 rows × 5 columns</p>\n</div>"
     },
     "metadata": {},
     "output_type": "execute_result",
     "execution_count": 54
    }
   ],
   "source": [
    "temp2 = join_name[join_name['probability'] > 0.8]\n",
    "temp2"
   ],
   "metadata": {
    "collapsed": false,
    "pycharm": {
     "name": "#%%\n",
     "is_executing": false
    }
   }
  },
  {
   "cell_type": "code",
   "execution_count": 56,
   "outputs": [
    {
     "data": {
      "text/plain": "                      author  gender  probability\n0            H. Vincent Poor    male     0.972930\n1             H. V. Jagadish    male     0.936064\n3           H. Jonathan Chao    male     0.976723\n4                 H. T. Kung    male     0.946764\n5                 H. Jin Kim    male     0.946304\n...                      ...     ...          ...\n1347728            Liaoni Wu  female     1.000000\n1347729       Hsinying Liang  female     1.000000\n1347732         Gibong Jeong    male     1.000000\n1347733          Changri Luo    male     1.000000\n1347734  Jamaiah Haji Yahaya  female     1.000000\n\n[1125049 rows x 3 columns]",
      "text/html": "<div>\n<style scoped>\n    .dataframe tbody tr th:only-of-type {\n        vertical-align: middle;\n    }\n\n    .dataframe tbody tr th {\n        vertical-align: top;\n    }\n\n    .dataframe thead th {\n        text-align: right;\n    }\n</style>\n<table border=\"1\" class=\"dataframe\">\n  <thead>\n    <tr style=\"text-align: right;\">\n      <th></th>\n      <th>author</th>\n      <th>gender</th>\n      <th>probability</th>\n    </tr>\n  </thead>\n  <tbody>\n    <tr>\n      <th>0</th>\n      <td>H. Vincent Poor</td>\n      <td>male</td>\n      <td>0.972930</td>\n    </tr>\n    <tr>\n      <th>1</th>\n      <td>H. V. Jagadish</td>\n      <td>male</td>\n      <td>0.936064</td>\n    </tr>\n    <tr>\n      <th>3</th>\n      <td>H. Jonathan Chao</td>\n      <td>male</td>\n      <td>0.976723</td>\n    </tr>\n    <tr>\n      <th>4</th>\n      <td>H. T. Kung</td>\n      <td>male</td>\n      <td>0.946764</td>\n    </tr>\n    <tr>\n      <th>5</th>\n      <td>H. Jin Kim</td>\n      <td>male</td>\n      <td>0.946304</td>\n    </tr>\n    <tr>\n      <th>...</th>\n      <td>...</td>\n      <td>...</td>\n      <td>...</td>\n    </tr>\n    <tr>\n      <th>1347728</th>\n      <td>Liaoni Wu</td>\n      <td>female</td>\n      <td>1.000000</td>\n    </tr>\n    <tr>\n      <th>1347729</th>\n      <td>Hsinying Liang</td>\n      <td>female</td>\n      <td>1.000000</td>\n    </tr>\n    <tr>\n      <th>1347732</th>\n      <td>Gibong Jeong</td>\n      <td>male</td>\n      <td>1.000000</td>\n    </tr>\n    <tr>\n      <th>1347733</th>\n      <td>Changri Luo</td>\n      <td>male</td>\n      <td>1.000000</td>\n    </tr>\n    <tr>\n      <th>1347734</th>\n      <td>Jamaiah Haji Yahaya</td>\n      <td>female</td>\n      <td>1.000000</td>\n    </tr>\n  </tbody>\n</table>\n<p>1125049 rows × 3 columns</p>\n</div>"
     },
     "metadata": {},
     "output_type": "execute_result",
     "execution_count": 56
    }
   ],
   "source": [
    "temp3 = temp2.drop(columns=['name', 'count'])\n",
    "temp3"
   ],
   "metadata": {
    "collapsed": false,
    "pycharm": {
     "name": "#%%\n",
     "is_executing": false
    }
   }
  },
  {
   "cell_type": "code",
   "execution_count": 58,
   "outputs": [],
   "source": [
    "temp3.to_csv('author_gender_filtered.csv', index=None)\n",
    "\n"
   ],
   "metadata": {
    "collapsed": false,
    "pycharm": {
     "name": "#%%\n",
     "is_executing": false
    }
   }
  }
 ],
 "metadata": {
  "kernelspec": {
   "display_name": "Python 3",
   "language": "python",
   "name": "python3"
  },
  "language_info": {
   "codemirror_mode": {
    "name": "ipython",
    "version": 2
   },
   "file_extension": ".py",
   "mimetype": "text/x-python",
   "name": "python",
   "nbconvert_exporter": "python",
   "pygments_lexer": "ipython2",
   "version": "2.7.6"
  },
  "pycharm": {
   "stem_cell": {
    "cell_type": "raw",
    "source": [],
    "metadata": {
     "collapsed": false
    }
   }
  }
 },
 "nbformat": 4,
 "nbformat_minor": 0
}