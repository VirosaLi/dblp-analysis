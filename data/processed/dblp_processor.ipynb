{
 "cells": [
  {
   "cell_type": "code",
   "execution_count": 9,
   "metadata": {
    "pycharm": {
     "is_executing": false,
     "name": "#%%\n"
    }
   },
   "outputs": [],
   "source": [
    "from utils.transformation import *"
   ]
  },
  {
   "cell_type": "code",
   "execution_count": 10,
   "metadata": {
    "pycharm": {
     "is_executing": false,
     "name": "#%%\n"
    }
   },
   "outputs": [],
   "source": [
    "article_path = '../original/output_article.csv'\n",
    "inproceeding_path = '../original/output_inproceedings.csv'\n",
    "proceeding_path = '../original/output_proceedings.csv'\n",
    "max_coauthor = 20\n",
    "mentor_difference = 4"
   ]
  },
  {
   "cell_type": "code",
   "execution_count": 11,
   "metadata": {
    "pycharm": {
     "is_executing": false,
     "name": "#%%\n"
    }
   },
   "outputs": [],
   "source": [
    "df_article = pre_processing(article_path, max_coauthor)\n",
    "df_proceeding = pre_processing(proceeding_path, max_coauthor)\n",
    "df_inproceeding = pre_processing(inproceeding_path, max_coauthor)"
   ]
  },
  {
   "cell_type": "code",
   "execution_count": 12,
   "outputs": [
    {
     "data": {
      "text/plain": "              id                                             author  \\\n0        2480034  [Alejandro P. Buchmann, Frank Manola, Mark F. ...   \n1        2480036  [Farshad Nayeri, Joe D. Morrison, Mark F. Horn...   \n2        2480040  [Alejandro P. Buchmann, Dimitrios Georgakopoul...   \n3        2480041                      [Frank Manola, Sandra Heiler]   \n4        2480042           [Michael L. Brodie, Michael Stonebraker]   \n...          ...                                                ...   \n3895357  7024690                [Nabil R. Adam, Ramesh Subramanian]   \n3895358  7024692  [Dieter Fensel, Dieter Landes, Jürgen Angele, ...   \n3895359  7024694                  [Ramez Elmasri, Vram Kouramajian]   \n3895360  7024698           [Claus-Rainer Rollinger, Otthein Herzog]   \n3895361  7024704               [Jean-Claude Franchitti, Roger King]   \n\n                                                     title  year  \n0        Object Data Model Facilities for Multimedia Da...  1990  \n1        Integrating Heterogeneous, Autonomous, Distrib...  1991  \n2         Towards a Transaction Management System for DOM.  1991  \n3        A 'RISC' Object Model for Object System Intero...  1993  \n4        DARWIN: On the Incremental Migration of Legacy...  1993  \n...                                                    ...   ...  \n3895357  Applying OOAD in the Design and Implementation...  1993  \n3895358  Knowledge Engineering in the Context of Relate...  1991  \n3895359  A Temporal Query Language For A Conceptual Model.  1993  \n3895360                                 Introducing LILOG.  1991  \n3895361  Amalgame: A Tool for Creating Interoperating, ...  1993  \n\n[3895362 rows x 4 columns]",
      "text/html": "<div>\n<style scoped>\n    .dataframe tbody tr th:only-of-type {\n        vertical-align: middle;\n    }\n\n    .dataframe tbody tr th {\n        vertical-align: top;\n    }\n\n    .dataframe thead th {\n        text-align: right;\n    }\n</style>\n<table border=\"1\" class=\"dataframe\">\n  <thead>\n    <tr style=\"text-align: right;\">\n      <th></th>\n      <th>id</th>\n      <th>author</th>\n      <th>title</th>\n      <th>year</th>\n    </tr>\n  </thead>\n  <tbody>\n    <tr>\n      <th>0</th>\n      <td>2480034</td>\n      <td>[Alejandro P. Buchmann, Frank Manola, Mark F. ...</td>\n      <td>Object Data Model Facilities for Multimedia Da...</td>\n      <td>1990</td>\n    </tr>\n    <tr>\n      <th>1</th>\n      <td>2480036</td>\n      <td>[Farshad Nayeri, Joe D. Morrison, Mark F. Horn...</td>\n      <td>Integrating Heterogeneous, Autonomous, Distrib...</td>\n      <td>1991</td>\n    </tr>\n    <tr>\n      <th>2</th>\n      <td>2480040</td>\n      <td>[Alejandro P. Buchmann, Dimitrios Georgakopoul...</td>\n      <td>Towards a Transaction Management System for DOM.</td>\n      <td>1991</td>\n    </tr>\n    <tr>\n      <th>3</th>\n      <td>2480041</td>\n      <td>[Frank Manola, Sandra Heiler]</td>\n      <td>A 'RISC' Object Model for Object System Intero...</td>\n      <td>1993</td>\n    </tr>\n    <tr>\n      <th>4</th>\n      <td>2480042</td>\n      <td>[Michael L. Brodie, Michael Stonebraker]</td>\n      <td>DARWIN: On the Incremental Migration of Legacy...</td>\n      <td>1993</td>\n    </tr>\n    <tr>\n      <th>...</th>\n      <td>...</td>\n      <td>...</td>\n      <td>...</td>\n      <td>...</td>\n    </tr>\n    <tr>\n      <th>3895357</th>\n      <td>7024690</td>\n      <td>[Nabil R. Adam, Ramesh Subramanian]</td>\n      <td>Applying OOAD in the Design and Implementation...</td>\n      <td>1993</td>\n    </tr>\n    <tr>\n      <th>3895358</th>\n      <td>7024692</td>\n      <td>[Dieter Fensel, Dieter Landes, Jürgen Angele, ...</td>\n      <td>Knowledge Engineering in the Context of Relate...</td>\n      <td>1991</td>\n    </tr>\n    <tr>\n      <th>3895359</th>\n      <td>7024694</td>\n      <td>[Ramez Elmasri, Vram Kouramajian]</td>\n      <td>A Temporal Query Language For A Conceptual Model.</td>\n      <td>1993</td>\n    </tr>\n    <tr>\n      <th>3895360</th>\n      <td>7024698</td>\n      <td>[Claus-Rainer Rollinger, Otthein Herzog]</td>\n      <td>Introducing LILOG.</td>\n      <td>1991</td>\n    </tr>\n    <tr>\n      <th>3895361</th>\n      <td>7024704</td>\n      <td>[Jean-Claude Franchitti, Roger King]</td>\n      <td>Amalgame: A Tool for Creating Interoperating, ...</td>\n      <td>1993</td>\n    </tr>\n  </tbody>\n</table>\n<p>3895362 rows × 4 columns</p>\n</div>"
     },
     "metadata": {},
     "output_type": "execute_result",
     "execution_count": 12
    }
   ],
   "source": [
    "df_combine = pd.concat([df_article, df_proceeding, df_inproceeding], ignore_index=True)\n",
    "df_combine"
   ],
   "metadata": {
    "collapsed": false,
    "pycharm": {
     "name": "#%%\n",
     "is_executing": false
    }
   }
  },
  {
   "cell_type": "code",
   "execution_count": 13,
   "metadata": {
    "pycharm": {
     "is_executing": false,
     "name": "#%%\n"
    }
   },
   "outputs": [
    {
     "data": {
      "text/plain": "                          source            target  year\n0          Alejandro P. Buchmann      Frank Manola  1990\n1          Alejandro P. Buchmann   Mark F. Hornick  1990\n2                   Frank Manola   Mark F. Hornick  1990\n3                 Farshad Nayeri   Joe D. Morrison  1991\n4                 Farshad Nayeri   Mark F. Hornick  1991\n...                          ...               ...   ...\n21161012           Jürgen Angele   Susanne Neubert  1991\n21161013             Rudi Studer   Susanne Neubert  1991\n21161014           Ramez Elmasri  Vram Kouramajian  1993\n21161015  Claus-Rainer Rollinger    Otthein Herzog  1991\n21161016  Jean-Claude Franchitti        Roger King  1993\n\n[21161017 rows x 3 columns]",
      "text/html": "<div>\n<style scoped>\n    .dataframe tbody tr th:only-of-type {\n        vertical-align: middle;\n    }\n\n    .dataframe tbody tr th {\n        vertical-align: top;\n    }\n\n    .dataframe thead th {\n        text-align: right;\n    }\n</style>\n<table border=\"1\" class=\"dataframe\">\n  <thead>\n    <tr style=\"text-align: right;\">\n      <th></th>\n      <th>source</th>\n      <th>target</th>\n      <th>year</th>\n    </tr>\n  </thead>\n  <tbody>\n    <tr>\n      <th>0</th>\n      <td>Alejandro P. Buchmann</td>\n      <td>Frank Manola</td>\n      <td>1990</td>\n    </tr>\n    <tr>\n      <th>1</th>\n      <td>Alejandro P. Buchmann</td>\n      <td>Mark F. Hornick</td>\n      <td>1990</td>\n    </tr>\n    <tr>\n      <th>2</th>\n      <td>Frank Manola</td>\n      <td>Mark F. Hornick</td>\n      <td>1990</td>\n    </tr>\n    <tr>\n      <th>3</th>\n      <td>Farshad Nayeri</td>\n      <td>Joe D. Morrison</td>\n      <td>1991</td>\n    </tr>\n    <tr>\n      <th>4</th>\n      <td>Farshad Nayeri</td>\n      <td>Mark F. Hornick</td>\n      <td>1991</td>\n    </tr>\n    <tr>\n      <th>...</th>\n      <td>...</td>\n      <td>...</td>\n      <td>...</td>\n    </tr>\n    <tr>\n      <th>21161012</th>\n      <td>Jürgen Angele</td>\n      <td>Susanne Neubert</td>\n      <td>1991</td>\n    </tr>\n    <tr>\n      <th>21161013</th>\n      <td>Rudi Studer</td>\n      <td>Susanne Neubert</td>\n      <td>1991</td>\n    </tr>\n    <tr>\n      <th>21161014</th>\n      <td>Ramez Elmasri</td>\n      <td>Vram Kouramajian</td>\n      <td>1993</td>\n    </tr>\n    <tr>\n      <th>21161015</th>\n      <td>Claus-Rainer Rollinger</td>\n      <td>Otthein Herzog</td>\n      <td>1991</td>\n    </tr>\n    <tr>\n      <th>21161016</th>\n      <td>Jean-Claude Franchitti</td>\n      <td>Roger King</td>\n      <td>1993</td>\n    </tr>\n  </tbody>\n</table>\n<p>21161017 rows × 3 columns</p>\n</div>"
     },
     "metadata": {},
     "output_type": "execute_result",
     "execution_count": 13
    }
   ],
   "source": [
    "edge_list = generate_edge_list(df_combine)\n",
    "edge_list"
   ]
  },
  {
   "cell_type": "code",
   "execution_count": 14,
   "metadata": {
    "pycharm": {
     "is_executing": false,
     "name": "#%%\n"
    }
   },
   "outputs": [
    {
     "data": {
      "text/plain": "                       author  number_publication  year\n0             H. Vincent Poor                1771  1978\n1        Mohamed-Slim Alouini                1407  1997\n2                Philip S. Yu                1284  1981\n3                    Wei Wang                1284  1987\n4                   Wei Zhang                1283  1990\n...                       ...                 ...   ...\n2308638       Ünsal Özkuvanci                   1  2012\n2308639  Üyesi Mesut Atasever                   1  2019\n2308640     Þröstur Pétursson                   1  2015\n2308641       Þórir Harðarson                   1  2008\n2308642  þorgerður Pálsdóttir                   1  2017\n\n[2308643 rows x 3 columns]",
      "text/html": "<div>\n<style scoped>\n    .dataframe tbody tr th:only-of-type {\n        vertical-align: middle;\n    }\n\n    .dataframe tbody tr th {\n        vertical-align: top;\n    }\n\n    .dataframe thead th {\n        text-align: right;\n    }\n</style>\n<table border=\"1\" class=\"dataframe\">\n  <thead>\n    <tr style=\"text-align: right;\">\n      <th></th>\n      <th>author</th>\n      <th>number_publication</th>\n      <th>year</th>\n    </tr>\n  </thead>\n  <tbody>\n    <tr>\n      <th>0</th>\n      <td>H. Vincent Poor</td>\n      <td>1771</td>\n      <td>1978</td>\n    </tr>\n    <tr>\n      <th>1</th>\n      <td>Mohamed-Slim Alouini</td>\n      <td>1407</td>\n      <td>1997</td>\n    </tr>\n    <tr>\n      <th>2</th>\n      <td>Philip S. Yu</td>\n      <td>1284</td>\n      <td>1981</td>\n    </tr>\n    <tr>\n      <th>3</th>\n      <td>Wei Wang</td>\n      <td>1284</td>\n      <td>1987</td>\n    </tr>\n    <tr>\n      <th>4</th>\n      <td>Wei Zhang</td>\n      <td>1283</td>\n      <td>1990</td>\n    </tr>\n    <tr>\n      <th>...</th>\n      <td>...</td>\n      <td>...</td>\n      <td>...</td>\n    </tr>\n    <tr>\n      <th>2308638</th>\n      <td>Ünsal Özkuvanci</td>\n      <td>1</td>\n      <td>2012</td>\n    </tr>\n    <tr>\n      <th>2308639</th>\n      <td>Üyesi Mesut Atasever</td>\n      <td>1</td>\n      <td>2019</td>\n    </tr>\n    <tr>\n      <th>2308640</th>\n      <td>Þröstur Pétursson</td>\n      <td>1</td>\n      <td>2015</td>\n    </tr>\n    <tr>\n      <th>2308641</th>\n      <td>Þórir Harðarson</td>\n      <td>1</td>\n      <td>2008</td>\n    </tr>\n    <tr>\n      <th>2308642</th>\n      <td>þorgerður Pálsdóttir</td>\n      <td>1</td>\n      <td>2017</td>\n    </tr>\n  </tbody>\n</table>\n<p>2308643 rows × 3 columns</p>\n</div>"
     },
     "metadata": {},
     "output_type": "execute_result",
     "execution_count": 14
    }
   ],
   "source": [
    "df_author = generate_author_list(df_combine)\n",
    "df_author"
   ]
  },
  {
   "cell_type": "code",
   "execution_count": 15,
   "metadata": {
    "pycharm": {
     "is_executing": false,
     "name": "#%%\n"
    }
   },
   "outputs": [
    {
     "data": {
      "text/plain": "                       author  number_publication  year               mentor\n0             H. Vincent Poor                1771  1978       John B. Thomas\n1        Mohamed-Slim Alouini                1407  1997      Marvin K. Simon\n2                    Wei Wang                1284  1987  Thomas C. Henderson\n3                 Lajos Hanzo                1236  1993       Raymond Steele\n4                Wen Gao 0001                1190  1995         Jiarong Hong\n...                       ...                 ...   ...                  ...\n1236795           Ümit Özlale                   1  2018         Gonca Gürsun\n1236796         Ünsal Akaslan                   1  2016  Selami Serhatlioglu\n1236797       Ünsal Özkuvanci                   1  2012           Sadik Kara\n1236798  Üyesi Mesut Atasever                   1  2019     Witold Chmielarz\n1236799  þorgerður Pálsdóttir                   1  2017     Andreas Karlsson\n\n[1236800 rows x 4 columns]",
      "text/html": "<div>\n<style scoped>\n    .dataframe tbody tr th:only-of-type {\n        vertical-align: middle;\n    }\n\n    .dataframe tbody tr th {\n        vertical-align: top;\n    }\n\n    .dataframe thead th {\n        text-align: right;\n    }\n</style>\n<table border=\"1\" class=\"dataframe\">\n  <thead>\n    <tr style=\"text-align: right;\">\n      <th></th>\n      <th>author</th>\n      <th>number_publication</th>\n      <th>year</th>\n      <th>mentor</th>\n    </tr>\n  </thead>\n  <tbody>\n    <tr>\n      <th>0</th>\n      <td>H. Vincent Poor</td>\n      <td>1771</td>\n      <td>1978</td>\n      <td>John B. Thomas</td>\n    </tr>\n    <tr>\n      <th>1</th>\n      <td>Mohamed-Slim Alouini</td>\n      <td>1407</td>\n      <td>1997</td>\n      <td>Marvin K. Simon</td>\n    </tr>\n    <tr>\n      <th>2</th>\n      <td>Wei Wang</td>\n      <td>1284</td>\n      <td>1987</td>\n      <td>Thomas C. Henderson</td>\n    </tr>\n    <tr>\n      <th>3</th>\n      <td>Lajos Hanzo</td>\n      <td>1236</td>\n      <td>1993</td>\n      <td>Raymond Steele</td>\n    </tr>\n    <tr>\n      <th>4</th>\n      <td>Wen Gao 0001</td>\n      <td>1190</td>\n      <td>1995</td>\n      <td>Jiarong Hong</td>\n    </tr>\n    <tr>\n      <th>...</th>\n      <td>...</td>\n      <td>...</td>\n      <td>...</td>\n      <td>...</td>\n    </tr>\n    <tr>\n      <th>1236795</th>\n      <td>Ümit Özlale</td>\n      <td>1</td>\n      <td>2018</td>\n      <td>Gonca Gürsun</td>\n    </tr>\n    <tr>\n      <th>1236796</th>\n      <td>Ünsal Akaslan</td>\n      <td>1</td>\n      <td>2016</td>\n      <td>Selami Serhatlioglu</td>\n    </tr>\n    <tr>\n      <th>1236797</th>\n      <td>Ünsal Özkuvanci</td>\n      <td>1</td>\n      <td>2012</td>\n      <td>Sadik Kara</td>\n    </tr>\n    <tr>\n      <th>1236798</th>\n      <td>Üyesi Mesut Atasever</td>\n      <td>1</td>\n      <td>2019</td>\n      <td>Witold Chmielarz</td>\n    </tr>\n    <tr>\n      <th>1236799</th>\n      <td>þorgerður Pálsdóttir</td>\n      <td>1</td>\n      <td>2017</td>\n      <td>Andreas Karlsson</td>\n    </tr>\n  </tbody>\n</table>\n<p>1236800 rows × 4 columns</p>\n</div>"
     },
     "metadata": {},
     "output_type": "execute_result",
     "execution_count": 15
    }
   ],
   "source": [
    "mentor = find_mentor(df_author, edge_list, mentor_difference)\n",
    "mentor"
   ]
  },
  {
   "cell_type": "code",
   "execution_count": 16,
   "outputs": [],
   "source": [
    "edge_list.to_csv('edge_list.csv', index=None)\n",
    "mentor.to_csv('author_mentor.csv', index=None)"
   ],
   "metadata": {
    "collapsed": false,
    "pycharm": {
     "name": "#%%\n",
     "is_executing": false
    }
   }
  }
 ],
 "metadata": {
  "kernelspec": {
   "display_name": "Python 3",
   "language": "python",
   "name": "python3"
  },
  "pycharm": {
   "stem_cell": {
    "cell_type": "raw",
    "source": [],
    "metadata": {
     "collapsed": false
    }
   }
  }
 },
 "nbformat": 4,
 "nbformat_minor": 1
}