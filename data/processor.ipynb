{
 "cells": [
  {
   "cell_type": "code",
   "execution_count": 1,
   "metadata": {
    "collapsed": true,
    "pycharm": {
     "is_executing": false
    }
   },
   "outputs": [],
   "source": [
    "from itertools import combinations\n",
    "\n",
    "import numpy as np\n",
    "import pandas as pd\n",
    "\n",
    "from genderize import Genderize\n"
   ]
  },
  {
   "cell_type": "code",
   "execution_count": 2,
   "outputs": [
    {
     "name": "stderr",
     "text": [
      "/home/fangchenli/miniconda3/envs/data/lib/python3.7/site-packages/IPython/core/interactiveshell.py:3058: DtypeWarning: Columns (2,4,5,6,7,8,9,10,11,13,14,18,19,20,21,22,23,24,28,29,31) have mixed types. Specify dtype option on import or set low_memory=False.\n",
      "  interactivity=interactivity, compiler=compiler, result=result)\n"
     ],
     "output_type": "stream"
    },
    {
     "data": {
      "text/plain": "              id                                             author  \\\n0          91701                                                NaN   \n1          91702                                                NaN   \n2          91703                                                NaN   \n3        2480033                                       Frank Manola   \n4        2480034  Alejandro P. Buchmann|Frank Manola|Mark F. Hor...   \n...          ...                                                ...   \n2137507  7186397                              C. J. Date|E. F. Codd   \n2137508  7186398                                 Patrick A. V. Hall   \n2137509  7186399   Hugo Hellebrand|Markus Casper|Ralf Merz|Rita Ley   \n2137510  7186400                                         E. F. Codd   \n2137511  7186401  Andreas Rock|Gayane Grigoryan|Günther Heineman...   \n\n        author-aux                             author-orcid booktitle cdate  \\\n0              NaN                                      NaN       NaN   NaN   \n1              NaN                                      NaN       NaN   NaN   \n2              NaN                                      NaN       NaN   NaN   \n3              NaN                                      NaN       NaN   NaN   \n4              NaN                                      NaN       NaN   NaN   \n...            ...                                      ...       ...   ...   \n2137507        NaN                                      NaN       NaN   NaN   \n2137508        NaN                                      NaN       NaN   NaN   \n2137509        NaN                      0000-0002-1163-8988       NaN   NaN   \n2137510        NaN                                      NaN       NaN   NaN   \n2137511        NaN  0000-0002-1163-8988|0000-0002-4831-9016       NaN   NaN   \n\n                   cdrom cite cite-label crossref  ... publisher  publtype  \\\n0                    NaN  NaN        NaN      NaN  ...       NaN  informal   \n1                    NaN  NaN        NaN      NaN  ...       NaN  informal   \n2                    NaN  NaN        NaN      NaN  ...       NaN  informal   \n3                    NaN  NaN        NaN      NaN  ...       NaN  informal   \n4                    NaN  NaN        NaN      NaN  ...       NaN  informal   \n...                  ...  ...        ...      ...  ...       ...       ...   \n2137507              NaN  NaN        NaN      NaN  ...       NaN       NaN   \n2137508              NaN  NaN        NaN      NaN  ...       NaN       NaN   \n2137509              NaN  NaN        NaN      NaN  ...       NaN       NaN   \n2137510  ibmTR/rj987.pdf  NaN        NaN      NaN  ...       NaN  informal   \n2137511              NaN  NaN        NaN      NaN  ...       NaN       NaN   \n\n         sub  sup                                              title  \\\n0        NaN  NaN                                            (error)   \n1        NaN  NaN                              (was never published)   \n2        NaN  NaN                                                  …   \n3        NaN  NaN  Object Data Language Facilities for Multimedia...   \n4        NaN  NaN  Object Data Model Facilities for Multimedia Da...   \n...      ...  ...                                                ...   \n2137507  NaN  NaN  Interactive Support for Non-Programmers: The R...   \n2137508  NaN  NaN  Common Subexpression Identification in General...   \n2137509  NaN  NaN  Catchment classification by runoff behaviour w...   \n2137510  NaN  NaN  Relational Completeness of Data Base Sublangua...   \n2137511  NaN  NaN  Analysis of projected hydrological behavior of...   \n\n        title-bibtex   tt                                              url  \\\n0                NaN  NaN                                              NaN   \n1                NaN  NaN                                              NaN   \n2                NaN  NaN                                              NaN   \n3                NaN  NaN  db/journals/gtelab/index.html#TR-0169-12-91-165   \n4                NaN  NaN  db/journals/gtelab/index.html#TM-0332-11-90-165   \n...              ...  ...                                              ...   \n2137507          NaN  NaN                                              NaN   \n2137508          NaN  NaN                                              NaN   \n2137509          NaN  NaN                                              NaN   \n2137510          NaN  NaN                                              NaN   \n2137511          NaN  NaN                                              NaN   \n\n                    volume    year  \n0                      NaN     NaN  \n1                      NaN     NaN  \n2                      NaN     NaN  \n3        TR-0169-12-91-165  1991.0  \n4        TM-0332-11-90-165  1990.0  \n...                    ...     ...  \n2137507             RJ1400  1974.0  \n2137508                NaN  1974.0  \n2137509                 15  2011.0  \n2137510              RJ987  1972.0  \n2137511                 16  2012.0  \n\n[2137512 rows x 33 columns]",
      "text/html": "<div>\n<style scoped>\n    .dataframe tbody tr th:only-of-type {\n        vertical-align: middle;\n    }\n\n    .dataframe tbody tr th {\n        vertical-align: top;\n    }\n\n    .dataframe thead th {\n        text-align: right;\n    }\n</style>\n<table border=\"1\" class=\"dataframe\">\n  <thead>\n    <tr style=\"text-align: right;\">\n      <th></th>\n      <th>id</th>\n      <th>author</th>\n      <th>author-aux</th>\n      <th>author-orcid</th>\n      <th>booktitle</th>\n      <th>cdate</th>\n      <th>cdrom</th>\n      <th>cite</th>\n      <th>cite-label</th>\n      <th>crossref</th>\n      <th>...</th>\n      <th>publisher</th>\n      <th>publtype</th>\n      <th>sub</th>\n      <th>sup</th>\n      <th>title</th>\n      <th>title-bibtex</th>\n      <th>tt</th>\n      <th>url</th>\n      <th>volume</th>\n      <th>year</th>\n    </tr>\n  </thead>\n  <tbody>\n    <tr>\n      <th>0</th>\n      <td>91701</td>\n      <td>NaN</td>\n      <td>NaN</td>\n      <td>NaN</td>\n      <td>NaN</td>\n      <td>NaN</td>\n      <td>NaN</td>\n      <td>NaN</td>\n      <td>NaN</td>\n      <td>NaN</td>\n      <td>...</td>\n      <td>NaN</td>\n      <td>informal</td>\n      <td>NaN</td>\n      <td>NaN</td>\n      <td>(error)</td>\n      <td>NaN</td>\n      <td>NaN</td>\n      <td>NaN</td>\n      <td>NaN</td>\n      <td>NaN</td>\n    </tr>\n    <tr>\n      <th>1</th>\n      <td>91702</td>\n      <td>NaN</td>\n      <td>NaN</td>\n      <td>NaN</td>\n      <td>NaN</td>\n      <td>NaN</td>\n      <td>NaN</td>\n      <td>NaN</td>\n      <td>NaN</td>\n      <td>NaN</td>\n      <td>...</td>\n      <td>NaN</td>\n      <td>informal</td>\n      <td>NaN</td>\n      <td>NaN</td>\n      <td>(was never published)</td>\n      <td>NaN</td>\n      <td>NaN</td>\n      <td>NaN</td>\n      <td>NaN</td>\n      <td>NaN</td>\n    </tr>\n    <tr>\n      <th>2</th>\n      <td>91703</td>\n      <td>NaN</td>\n      <td>NaN</td>\n      <td>NaN</td>\n      <td>NaN</td>\n      <td>NaN</td>\n      <td>NaN</td>\n      <td>NaN</td>\n      <td>NaN</td>\n      <td>NaN</td>\n      <td>...</td>\n      <td>NaN</td>\n      <td>informal</td>\n      <td>NaN</td>\n      <td>NaN</td>\n      <td>…</td>\n      <td>NaN</td>\n      <td>NaN</td>\n      <td>NaN</td>\n      <td>NaN</td>\n      <td>NaN</td>\n    </tr>\n    <tr>\n      <th>3</th>\n      <td>2480033</td>\n      <td>Frank Manola</td>\n      <td>NaN</td>\n      <td>NaN</td>\n      <td>NaN</td>\n      <td>NaN</td>\n      <td>NaN</td>\n      <td>NaN</td>\n      <td>NaN</td>\n      <td>NaN</td>\n      <td>...</td>\n      <td>NaN</td>\n      <td>informal</td>\n      <td>NaN</td>\n      <td>NaN</td>\n      <td>Object Data Language Facilities for Multimedia...</td>\n      <td>NaN</td>\n      <td>NaN</td>\n      <td>db/journals/gtelab/index.html#TR-0169-12-91-165</td>\n      <td>TR-0169-12-91-165</td>\n      <td>1991.0</td>\n    </tr>\n    <tr>\n      <th>4</th>\n      <td>2480034</td>\n      <td>Alejandro P. Buchmann|Frank Manola|Mark F. Hor...</td>\n      <td>NaN</td>\n      <td>NaN</td>\n      <td>NaN</td>\n      <td>NaN</td>\n      <td>NaN</td>\n      <td>NaN</td>\n      <td>NaN</td>\n      <td>NaN</td>\n      <td>...</td>\n      <td>NaN</td>\n      <td>informal</td>\n      <td>NaN</td>\n      <td>NaN</td>\n      <td>Object Data Model Facilities for Multimedia Da...</td>\n      <td>NaN</td>\n      <td>NaN</td>\n      <td>db/journals/gtelab/index.html#TM-0332-11-90-165</td>\n      <td>TM-0332-11-90-165</td>\n      <td>1990.0</td>\n    </tr>\n    <tr>\n      <th>...</th>\n      <td>...</td>\n      <td>...</td>\n      <td>...</td>\n      <td>...</td>\n      <td>...</td>\n      <td>...</td>\n      <td>...</td>\n      <td>...</td>\n      <td>...</td>\n      <td>...</td>\n      <td>...</td>\n      <td>...</td>\n      <td>...</td>\n      <td>...</td>\n      <td>...</td>\n      <td>...</td>\n      <td>...</td>\n      <td>...</td>\n      <td>...</td>\n      <td>...</td>\n      <td>...</td>\n    </tr>\n    <tr>\n      <th>2137507</th>\n      <td>7186397</td>\n      <td>C. J. Date|E. F. Codd</td>\n      <td>NaN</td>\n      <td>NaN</td>\n      <td>NaN</td>\n      <td>NaN</td>\n      <td>NaN</td>\n      <td>NaN</td>\n      <td>NaN</td>\n      <td>NaN</td>\n      <td>...</td>\n      <td>NaN</td>\n      <td>NaN</td>\n      <td>NaN</td>\n      <td>NaN</td>\n      <td>Interactive Support for Non-Programmers: The R...</td>\n      <td>NaN</td>\n      <td>NaN</td>\n      <td>NaN</td>\n      <td>RJ1400</td>\n      <td>1974.0</td>\n    </tr>\n    <tr>\n      <th>2137508</th>\n      <td>7186398</td>\n      <td>Patrick A. V. Hall</td>\n      <td>NaN</td>\n      <td>NaN</td>\n      <td>NaN</td>\n      <td>NaN</td>\n      <td>NaN</td>\n      <td>NaN</td>\n      <td>NaN</td>\n      <td>NaN</td>\n      <td>...</td>\n      <td>NaN</td>\n      <td>NaN</td>\n      <td>NaN</td>\n      <td>NaN</td>\n      <td>Common Subexpression Identification in General...</td>\n      <td>NaN</td>\n      <td>NaN</td>\n      <td>NaN</td>\n      <td>NaN</td>\n      <td>1974.0</td>\n    </tr>\n    <tr>\n      <th>2137509</th>\n      <td>7186399</td>\n      <td>Hugo Hellebrand|Markus Casper|Ralf Merz|Rita Ley</td>\n      <td>NaN</td>\n      <td>0000-0002-1163-8988</td>\n      <td>NaN</td>\n      <td>NaN</td>\n      <td>NaN</td>\n      <td>NaN</td>\n      <td>NaN</td>\n      <td>NaN</td>\n      <td>...</td>\n      <td>NaN</td>\n      <td>NaN</td>\n      <td>NaN</td>\n      <td>NaN</td>\n      <td>Catchment classification by runoff behaviour w...</td>\n      <td>NaN</td>\n      <td>NaN</td>\n      <td>NaN</td>\n      <td>15</td>\n      <td>2011.0</td>\n    </tr>\n    <tr>\n      <th>2137510</th>\n      <td>7186400</td>\n      <td>E. F. Codd</td>\n      <td>NaN</td>\n      <td>NaN</td>\n      <td>NaN</td>\n      <td>NaN</td>\n      <td>ibmTR/rj987.pdf</td>\n      <td>NaN</td>\n      <td>NaN</td>\n      <td>NaN</td>\n      <td>...</td>\n      <td>NaN</td>\n      <td>informal</td>\n      <td>NaN</td>\n      <td>NaN</td>\n      <td>Relational Completeness of Data Base Sublangua...</td>\n      <td>NaN</td>\n      <td>NaN</td>\n      <td>NaN</td>\n      <td>RJ987</td>\n      <td>1972.0</td>\n    </tr>\n    <tr>\n      <th>2137511</th>\n      <td>7186401</td>\n      <td>Andreas Rock|Gayane Grigoryan|Günther Heineman...</td>\n      <td>NaN</td>\n      <td>0000-0002-1163-8988|0000-0002-4831-9016</td>\n      <td>NaN</td>\n      <td>NaN</td>\n      <td>NaN</td>\n      <td>NaN</td>\n      <td>NaN</td>\n      <td>NaN</td>\n      <td>...</td>\n      <td>NaN</td>\n      <td>NaN</td>\n      <td>NaN</td>\n      <td>NaN</td>\n      <td>Analysis of projected hydrological behavior of...</td>\n      <td>NaN</td>\n      <td>NaN</td>\n      <td>NaN</td>\n      <td>16</td>\n      <td>2012.0</td>\n    </tr>\n  </tbody>\n</table>\n<p>2137512 rows × 33 columns</p>\n</div>"
     },
     "metadata": {},
     "output_type": "execute_result",
     "execution_count": 2
    }
   ],
   "source": [
    "# read in parsed data in csv format\n",
    "df = pd.read_csv('dblp_article.csv', sep=';')\n",
    "df"
   ],
   "metadata": {
    "collapsed": false,
    "pycharm": {
     "name": "#%%\n",
     "is_executing": false
    }
   }
  },
  {
   "cell_type": "code",
   "execution_count": 7,
   "outputs": [
    {
     "name": "stderr",
     "text": [
      "/home/fangchenli/miniconda3/envs/data/lib/python3.7/site-packages/ipykernel_launcher.py:3: SettingWithCopyWarning: \nA value is trying to be set on a copy of a slice from a DataFrame\n\nSee the caveats in the documentation: http://pandas.pydata.org/pandas-docs/stable/user_guide/indexing.html#returning-a-view-versus-a-copy\n  This is separate from the ipykernel package so we can avoid doing imports until\n/home/fangchenli/miniconda3/envs/data/lib/python3.7/site-packages/ipykernel_launcher.py:7: SettingWithCopyWarning: \nA value is trying to be set on a copy of a slice from a DataFrame.\nTry using .loc[row_indexer,col_indexer] = value instead\n\nSee the caveats in the documentation: http://pandas.pydata.org/pandas-docs/stable/user_guide/indexing.html#returning-a-view-versus-a-copy\n  import sys\n",
      "/home/fangchenli/miniconda3/envs/data/lib/python3.7/site-packages/ipykernel_launcher.py:9: SettingWithCopyWarning: \nA value is trying to be set on a copy of a slice from a DataFrame.\nTry using .loc[row_indexer,col_indexer] = value instead\n\nSee the caveats in the documentation: http://pandas.pydata.org/pandas-docs/stable/user_guide/indexing.html#returning-a-view-versus-a-copy\n  if __name__ == '__main__':\n"
     ],
     "output_type": "stream"
    },
    {
     "data": {
      "text/plain": "              id                                             author  \\\n0        2480033                                     [Frank Manola]   \n1        2480034  [Alejandro P. Buchmann, Frank Manola, Mark F. ...   \n2        2480035                                     [Frank Manola]   \n3        2480036  [Farshad Nayeri, Joe D. Morrison, Mark F. Horn...   \n4        2480037                                     [Frank Manola]   \n...          ...                                                ...   \n2122143  7186397                           [C. J. Date, E. F. Codd]   \n2122144  7186398                               [Patrick A. V. Hall]   \n2122145  7186399  [Hugo Hellebrand, Markus Casper, Ralf Merz, Ri...   \n2122146  7186400                                       [E. F. Codd]   \n2122147  7186401  [Andreas Rock, Gayane Grigoryan, Günther Heine...   \n\n                                                     title  year  \n0        Object Data Language Facilities for Multimedia...  1991  \n1        Object Data Model Facilities for Multimedia Da...  1990  \n2        An Evaluation of Object-Oriented DBMS Developm...  1994  \n3        Integrating Heterogeneous, Autonomous, Distrib...  1991  \n4        Object Model Capabilities For Distributed Obje...  1989  \n...                                                    ...   ...  \n2122143  Interactive Support for Non-Programmers: The R...  1974  \n2122144  Common Subexpression Identification in General...  1974  \n2122145  Catchment classification by runoff behaviour w...  2011  \n2122146  Relational Completeness of Data Base Sublangua...  1972  \n2122147  Analysis of projected hydrological behavior of...  2012  \n\n[2122148 rows x 4 columns]",
      "text/html": "<div>\n<style scoped>\n    .dataframe tbody tr th:only-of-type {\n        vertical-align: middle;\n    }\n\n    .dataframe tbody tr th {\n        vertical-align: top;\n    }\n\n    .dataframe thead th {\n        text-align: right;\n    }\n</style>\n<table border=\"1\" class=\"dataframe\">\n  <thead>\n    <tr style=\"text-align: right;\">\n      <th></th>\n      <th>id</th>\n      <th>author</th>\n      <th>title</th>\n      <th>year</th>\n    </tr>\n  </thead>\n  <tbody>\n    <tr>\n      <th>0</th>\n      <td>2480033</td>\n      <td>[Frank Manola]</td>\n      <td>Object Data Language Facilities for Multimedia...</td>\n      <td>1991</td>\n    </tr>\n    <tr>\n      <th>1</th>\n      <td>2480034</td>\n      <td>[Alejandro P. Buchmann, Frank Manola, Mark F. ...</td>\n      <td>Object Data Model Facilities for Multimedia Da...</td>\n      <td>1990</td>\n    </tr>\n    <tr>\n      <th>2</th>\n      <td>2480035</td>\n      <td>[Frank Manola]</td>\n      <td>An Evaluation of Object-Oriented DBMS Developm...</td>\n      <td>1994</td>\n    </tr>\n    <tr>\n      <th>3</th>\n      <td>2480036</td>\n      <td>[Farshad Nayeri, Joe D. Morrison, Mark F. Horn...</td>\n      <td>Integrating Heterogeneous, Autonomous, Distrib...</td>\n      <td>1991</td>\n    </tr>\n    <tr>\n      <th>4</th>\n      <td>2480037</td>\n      <td>[Frank Manola]</td>\n      <td>Object Model Capabilities For Distributed Obje...</td>\n      <td>1989</td>\n    </tr>\n    <tr>\n      <th>...</th>\n      <td>...</td>\n      <td>...</td>\n      <td>...</td>\n      <td>...</td>\n    </tr>\n    <tr>\n      <th>2122143</th>\n      <td>7186397</td>\n      <td>[C. J. Date, E. F. Codd]</td>\n      <td>Interactive Support for Non-Programmers: The R...</td>\n      <td>1974</td>\n    </tr>\n    <tr>\n      <th>2122144</th>\n      <td>7186398</td>\n      <td>[Patrick A. V. Hall]</td>\n      <td>Common Subexpression Identification in General...</td>\n      <td>1974</td>\n    </tr>\n    <tr>\n      <th>2122145</th>\n      <td>7186399</td>\n      <td>[Hugo Hellebrand, Markus Casper, Ralf Merz, Ri...</td>\n      <td>Catchment classification by runoff behaviour w...</td>\n      <td>2011</td>\n    </tr>\n    <tr>\n      <th>2122146</th>\n      <td>7186400</td>\n      <td>[E. F. Codd]</td>\n      <td>Relational Completeness of Data Base Sublangua...</td>\n      <td>1972</td>\n    </tr>\n    <tr>\n      <th>2122147</th>\n      <td>7186401</td>\n      <td>[Andreas Rock, Gayane Grigoryan, Günther Heine...</td>\n      <td>Analysis of projected hydrological behavior of...</td>\n      <td>2012</td>\n    </tr>\n  </tbody>\n</table>\n<p>2122148 rows × 4 columns</p>\n</div>"
     },
     "metadata": {},
     "output_type": "execute_result",
     "execution_count": 7
    }
   ],
   "source": [
    "# only take four columns, drop nan, reset index, split authors to list\n",
    "df_parsed = df[['id', 'author', 'title', 'year']]\n",
    "df_parsed.dropna(inplace=True)\n",
    "df_parsed.reset_index(drop=True, inplace=True)\n",
    "df_parsed['year'] = df_parsed['year'].astype('int64')\n",
    "df_parsed['author'] = df_parsed['author'].str.split('|')\n",
    "df_parsed"
   ],
   "metadata": {
    "collapsed": false,
    "pycharm": {
     "name": "#%%\n",
     "is_executing": false
    }
   }
  },
  {
   "cell_type": "code",
   "execution_count": 8,
   "outputs": [],
   "source": [
    "# save to file\n",
    "df_parsed.to_pickle('dblp_article_filtered.pkl')"
   ],
   "metadata": {
    "collapsed": false,
    "pycharm": {
     "name": "#%%\n",
     "is_executing": false
    }
   }
  },
  {
   "cell_type": "code",
   "execution_count": null,
   "outputs": [],
   "source": [
    "# filter out single author articles\n",
    "articles_multi = [df_parsed['author'].map(lambda x: len(x)) > 1]\n",
    "articles_multi"
   ],
   "metadata": {
    "collapsed": false,
    "pycharm": {
     "name": "#%%\n"
    }
   }
  },
  {
   "cell_type": "code",
   "execution_count": null,
   "outputs": [],
   "source": [
    "# save to file\n",
    "articles_multi.to_pickle('dblp_article_multi_author.pkl')"
   ],
   "metadata": {
    "collapsed": false,
    "pycharm": {
     "name": "#%%\n"
    }
   }
  },
  {
   "cell_type": "code",
   "execution_count": null,
   "outputs": [],
   "source": [
    "# expend the author list \n",
    "df_expand = pd.DataFrame([(author, tup.id, position, tup.year) for tup in articles_multi.itertuples() for position, author in enumerate(tup.author)],\n",
    "                         columns=['author', 'publication', 'position', 'year'])\n",
    "\n",
    "df_expand"
   ],
   "metadata": {
    "collapsed": false,
    "pycharm": {
     "name": "#%%\n"
    }
   }
  },
  {
   "cell_type": "code",
   "execution_count": null,
   "outputs": [],
   "source": [
    "# sort authors by number of publications, convert to DataFrame\n",
    "unique_author, pub_count = np.unique(df_expand['author'].tolist(), return_counts=True)\n",
    "author_count_map = dict(zip(unique_author, pub_count))\n",
    "top_author = sorted(author_count_map.items(), key=lambda x:x[1], reverse=True)\n",
    "df_authors = pd.DataFrame(top_author, columns=['author', 'number_publication'])\n",
    "df_authors"
   ],
   "metadata": {
    "collapsed": false,
    "pycharm": {
     "name": "#%%\n"
    }
   }
  },
  {
   "cell_type": "code",
   "execution_count": null,
   "outputs": [],
   "source": [
    "# save to file\n",
    "df_authors.to_pickle('authors.pkl')"
   ],
   "metadata": {
    "collapsed": false,
    "pycharm": {
     "name": "#%%\n"
    }
   }
  },
  {
   "cell_type": "code",
   "execution_count": null,
   "outputs": [],
   "source": [
    "# generate author pairs, convert to edge list\n",
    "articles_multi['pairs'] = articles_multi['author'].map(lambda x: list(combinations(x,2)))\n",
    "edge_list = pd.DataFrame([(pair[0],pair[1], tup.title, tup.year) for tup in articles_multi.itertuples() for pair in tup.pairs], columns=['source', 'target', 'title', 'year'])\n",
    "edge_list"
   ],
   "metadata": {
    "collapsed": false,
    "pycharm": {
     "name": "#%%\n"
    }
   }
  },
  {
   "cell_type": "code",
   "execution_count": null,
   "outputs": [],
   "source": [
    "# save to file\n",
    "edge_list.to_csv('dblp_article_duplicate_edge_list.csv', index=None)"
   ],
   "metadata": {
    "collapsed": false,
    "pycharm": {
     "name": "#%%\n"
    }
   }
  },
  {
   "cell_type": "code",
   "execution_count": null,
   "outputs": [],
   "source": [
    "# get a list of unique first name\n",
    "unique_first_name_source = edge_list['source'].map(lambda x: x.split(' ')[0]).unique()\n",
    "unique_first_name_target = edge_list['target'].map(lambda x: x.split(' ')[0]).unique()\n",
    "unique_first_name = np.concatenate((unique_first_name_source, unique_first_name_target), axis=None)"
   ],
   "metadata": {
    "collapsed": false,
    "pycharm": {
     "name": "#%%\n"
    }
   }
  },
  {
   "cell_type": "code",
   "execution_count": null,
   "outputs": [],
   "source": [
    "# init a Genderize instance, get the list of genders\n",
    "gender = Genderize()\n",
    "gender_list = gender.get(unique_first_name)\n",
    "df_gender = pd.DataFrame(gender_list)\n",
    "df_gender.to_csv('gender_list.csv', index=None)\n",
    "\n"
   ],
   "metadata": {
    "collapsed": false,
    "pycharm": {
     "name": "#%%\n"
    }
   }
  }
 ],
 "metadata": {
  "kernelspec": {
   "display_name": "Python 3",
   "language": "python",
   "name": "python3"
  },
  "language_info": {
   "codemirror_mode": {
    "name": "ipython",
    "version": 2
   },
   "file_extension": ".py",
   "mimetype": "text/x-python",
   "name": "python",
   "nbconvert_exporter": "python",
   "pygments_lexer": "ipython2",
   "version": "2.7.6"
  },
  "pycharm": {
   "stem_cell": {
    "cell_type": "raw",
    "source": [],
    "metadata": {
     "collapsed": false
    }
   }
  }
 },
 "nbformat": 4,
 "nbformat_minor": 0
}